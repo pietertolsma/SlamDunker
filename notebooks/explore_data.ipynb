{
 "cells": [
  {
   "cell_type": "markdown",
   "id": "7fcf54c5",
   "metadata": {},
   "source": [
    "# Data Exploration"
   ]
  },
  {
   "cell_type": "code",
   "execution_count": 1,
   "id": "09f35d96",
   "metadata": {},
   "outputs": [],
   "source": [
    "# Import required packages\n",
    "import pandas as pd"
   ]
  },
  {
   "cell_type": "code",
   "execution_count": 2,
   "id": "6c8ca960",
   "metadata": {},
   "outputs": [],
   "source": [
    "merged_file = \"../data/merged_troll_data.json\"\n",
    "troll_2016_no_rt = \"../data/troll_data_2016_no_rt.csv\"\n",
    "troll_2016 = \"../data/troll_data_2016.csv\"\n",
    "troll_june_nov = \"../data/troll_jun_to_nov_v2.csv\"\n",
    "\n",
    "merged_df = pd.read_json(merged_file)"
   ]
  },
  {
   "cell_type": "code",
   "execution_count": 3,
   "id": "ea41c573",
   "metadata": {},
   "outputs": [
    {
     "data": {
      "text/html": [
       "<div>\n",
       "<style scoped>\n",
       "    .dataframe tbody tr th:only-of-type {\n",
       "        vertical-align: middle;\n",
       "    }\n",
       "\n",
       "    .dataframe tbody tr th {\n",
       "        vertical-align: top;\n",
       "    }\n",
       "\n",
       "    .dataframe thead th {\n",
       "        text-align: right;\n",
       "    }\n",
       "</style>\n",
       "<table border=\"1\" class=\"dataframe\">\n",
       "  <thead>\n",
       "    <tr style=\"text-align: right;\">\n",
       "      <th></th>\n",
       "      <th>content</th>\n",
       "      <th>followers</th>\n",
       "      <th>following</th>\n",
       "      <th>retweet</th>\n",
       "      <th>account_category</th>\n",
       "      <th>created_at</th>\n",
       "      <th>orig_index</th>\n",
       "    </tr>\n",
       "    <tr>\n",
       "      <th>troll</th>\n",
       "      <th></th>\n",
       "      <th></th>\n",
       "      <th></th>\n",
       "      <th></th>\n",
       "      <th></th>\n",
       "      <th></th>\n",
       "      <th></th>\n",
       "    </tr>\n",
       "  </thead>\n",
       "  <tbody>\n",
       "    <tr>\n",
       "      <th>False</th>\n",
       "      <td>166252</td>\n",
       "      <td>166252</td>\n",
       "      <td>166252</td>\n",
       "      <td>166252</td>\n",
       "      <td>166252</td>\n",
       "      <td>166252</td>\n",
       "      <td>166252</td>\n",
       "    </tr>\n",
       "    <tr>\n",
       "      <th>True</th>\n",
       "      <td>166252</td>\n",
       "      <td>166252</td>\n",
       "      <td>166252</td>\n",
       "      <td>166252</td>\n",
       "      <td>166252</td>\n",
       "      <td>166252</td>\n",
       "      <td>166252</td>\n",
       "    </tr>\n",
       "  </tbody>\n",
       "</table>\n",
       "</div>"
      ],
      "text/plain": [
       "       content  followers  following  retweet  account_category  created_at  \\\n",
       "troll                                                                         \n",
       "False   166252     166252     166252   166252            166252      166252   \n",
       "True    166252     166252     166252   166252            166252      166252   \n",
       "\n",
       "       orig_index  \n",
       "troll              \n",
       "False      166252  \n",
       "True       166252  "
      ]
     },
     "execution_count": 3,
     "metadata": {},
     "output_type": "execute_result"
    }
   ],
   "source": [
    "merged_df.groupby('troll').count()"
   ]
  },
  {
   "cell_type": "code",
   "execution_count": 4,
   "id": "037e597a",
   "metadata": {},
   "outputs": [
    {
     "data": {
      "text/plain": [
       "content                     string\n",
       "followers                    int64\n",
       "following                    int64\n",
       "retweet                      int64\n",
       "account_category          category\n",
       "created_at          datetime64[ns]\n",
       "troll                         bool\n",
       "orig_index                   int64\n",
       "dtype: object"
      ]
     },
     "execution_count": 4,
     "metadata": {},
     "output_type": "execute_result"
    }
   ],
   "source": [
    "merged_df.groupby('account_category').describe()\n",
    "merged_df = merged_df.astype({'account_category': 'category', 'content': 'string'})\n",
    "merged_df.dtypes"
   ]
  },
  {
   "cell_type": "code",
   "execution_count": 5,
   "id": "f5c87508",
   "metadata": {},
   "outputs": [],
   "source": [
    "merged_df = merged_df.drop(columns=['orig_index'])\n",
    "merged_df = merged_df.reset_index(drop=True)"
   ]
  },
  {
   "cell_type": "code",
   "execution_count": 8,
   "id": "2e1e6cf7",
   "metadata": {},
   "outputs": [
    {
     "data": {
      "text/html": [
       "<div>\n",
       "<style scoped>\n",
       "    .dataframe tbody tr th:only-of-type {\n",
       "        vertical-align: middle;\n",
       "    }\n",
       "\n",
       "    .dataframe tbody tr th {\n",
       "        vertical-align: top;\n",
       "    }\n",
       "\n",
       "    .dataframe thead th {\n",
       "        text-align: right;\n",
       "    }\n",
       "</style>\n",
       "<table border=\"1\" class=\"dataframe\">\n",
       "  <thead>\n",
       "    <tr style=\"text-align: right;\">\n",
       "      <th></th>\n",
       "      <th>followers</th>\n",
       "      <th>following</th>\n",
       "      <th>retweet</th>\n",
       "    </tr>\n",
       "  </thead>\n",
       "  <tbody>\n",
       "    <tr>\n",
       "      <th>count</th>\n",
       "      <td>3.325040e+05</td>\n",
       "      <td>332504.000000</td>\n",
       "      <td>332504.000000</td>\n",
       "    </tr>\n",
       "    <tr>\n",
       "      <th>mean</th>\n",
       "      <td>7.935872e+03</td>\n",
       "      <td>3008.364465</td>\n",
       "      <td>0.740890</td>\n",
       "    </tr>\n",
       "    <tr>\n",
       "      <th>std</th>\n",
       "      <td>2.066285e+05</td>\n",
       "      <td>7711.247498</td>\n",
       "      <td>0.438147</td>\n",
       "    </tr>\n",
       "    <tr>\n",
       "      <th>min</th>\n",
       "      <td>0.000000e+00</td>\n",
       "      <td>0.000000</td>\n",
       "      <td>0.000000</td>\n",
       "    </tr>\n",
       "    <tr>\n",
       "      <th>25%</th>\n",
       "      <td>6.120000e+02</td>\n",
       "      <td>541.000000</td>\n",
       "      <td>0.000000</td>\n",
       "    </tr>\n",
       "    <tr>\n",
       "      <th>50%</th>\n",
       "      <td>1.144000e+03</td>\n",
       "      <td>1135.000000</td>\n",
       "      <td>1.000000</td>\n",
       "    </tr>\n",
       "    <tr>\n",
       "      <th>75%</th>\n",
       "      <td>2.431000e+03</td>\n",
       "      <td>2293.000000</td>\n",
       "      <td>1.000000</td>\n",
       "    </tr>\n",
       "    <tr>\n",
       "      <th>max</th>\n",
       "      <td>4.086668e+07</td>\n",
       "      <td>680956.000000</td>\n",
       "      <td>1.000000</td>\n",
       "    </tr>\n",
       "  </tbody>\n",
       "</table>\n",
       "</div>"
      ],
      "text/plain": [
       "          followers      following        retweet\n",
       "count  3.325040e+05  332504.000000  332504.000000\n",
       "mean   7.935872e+03    3008.364465       0.740890\n",
       "std    2.066285e+05    7711.247498       0.438147\n",
       "min    0.000000e+00       0.000000       0.000000\n",
       "25%    6.120000e+02     541.000000       0.000000\n",
       "50%    1.144000e+03    1135.000000       1.000000\n",
       "75%    2.431000e+03    2293.000000       1.000000\n",
       "max    4.086668e+07  680956.000000       1.000000"
      ]
     },
     "execution_count": 8,
     "metadata": {},
     "output_type": "execute_result"
    }
   ],
   "source": [
    "merged_df.describe()\n",
    "# Retweet column with max of 1? Should remove probably"
   ]
  },
  {
   "cell_type": "code",
   "execution_count": 10,
   "id": "1952adf7",
   "metadata": {},
   "outputs": [],
   "source": [
    "merged_df = merged_df.drop(columns=['retweet'])"
   ]
  },
  {
   "cell_type": "code",
   "execution_count": null,
   "id": "53495168",
   "metadata": {},
   "outputs": [],
   "source": []
  }
 ],
 "metadata": {
  "kernelspec": {
   "display_name": "Python 3",
   "language": "python",
   "name": "python3"
  },
  "language_info": {
   "codemirror_mode": {
    "name": "ipython",
    "version": 3
   },
   "file_extension": ".py",
   "mimetype": "text/x-python",
   "name": "python",
   "nbconvert_exporter": "python",
   "pygments_lexer": "ipython3",
   "version": "3.8.8"
  }
 },
 "nbformat": 4,
 "nbformat_minor": 5
}
